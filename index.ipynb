{
 "cells": [
  {
   "cell_type": "markdown",
   "metadata": {},
   "source": [
    "## Feature Scaling and Normalization - Lab"
   ]
  },
  {
   "cell_type": "markdown",
   "metadata": {},
   "source": [
    "## Introduction\n",
    "In this lab, you'll practice your feature scaling and normalization skills!"
   ]
  },
  {
   "cell_type": "markdown",
   "metadata": {},
   "source": [
    "## Objectives\n",
    "You will be able to:\n",
    "* Implement min-max scaling, mean-normalization, log normalization and unit vector normalization in python\n",
    "* Identify appropriate normalization and scaling techniques for given dataset"
   ]
  },
  {
   "cell_type": "markdown",
   "metadata": {},
   "source": [
    "## Back to our Boston Housing data"
   ]
  },
  {
   "cell_type": "markdown",
   "metadata": {},
   "source": [
    "Let's import our Boston Housing data. Remember we categorized two variables and deleted the \"NOX\" (nitride oxide concentration) variable because it was highly correlated with two other features."
   ]
  },
  {
   "cell_type": "code",
   "execution_count": 1,
   "metadata": {},
   "outputs": [],
   "source": [
    "import pandas as pd\n",
    "from sklearn.datasets import load_boston\n",
    "boston = load_boston()\n",
    "\n",
    "boston_features = pd.DataFrame(boston.data, columns = boston.feature_names)\n",
    "\n",
    "# first, create bins for based on the values observed. 5 values will result in 4 bins\n",
    "bins = [0, 3, 4 , 5, 24]\n",
    "bins_rad = pd.cut(boston_features['RAD'], bins)\n",
    "bins_rad = bins_rad.cat.as_unordered()\n",
    "\n",
    "# first, create bins for based on the values observed. 5 values will result in 4 bins\n",
    "bins = [0, 250, 300, 360, 460, 712]\n",
    "bins_tax = pd.cut(boston_features['TAX'], bins)\n",
    "bins_tax = bins_tax.cat.as_unordered()\n",
    "\n",
    "tax_dummy = pd.get_dummies(bins_tax, prefix=\"TAX\")\n",
    "rad_dummy = pd.get_dummies(bins_rad, prefix=\"RAD\")\n",
    "boston_features = boston_features.drop([\"RAD\",\"TAX\"], axis=1)\n",
    "boston_features = pd.concat([boston_features, rad_dummy, tax_dummy], axis=1)\n",
    "boston_features = boston_features.drop(\"NOX\",axis=1)"
   ]
  },
  {
   "cell_type": "markdown",
   "metadata": {},
   "source": [
    "## Look at the histograms for the continuous variables"
   ]
  },
  {
   "cell_type": "code",
   "execution_count": 2,
   "metadata": {},
   "outputs": [
    {
     "data": {
      "text/plain": [
       "array([[<matplotlib.axes._subplots.AxesSubplot object at 0x1a0cb6f278>,\n",
       "        <matplotlib.axes._subplots.AxesSubplot object at 0x1a0cc09550>,\n",
       "        <matplotlib.axes._subplots.AxesSubplot object at 0x1a181379e8>],\n",
       "       [<matplotlib.axes._subplots.AxesSubplot object at 0x1a1816a0b8>,\n",
       "        <matplotlib.axes._subplots.AxesSubplot object at 0x1a18190748>,\n",
       "        <matplotlib.axes._subplots.AxesSubplot object at 0x1a18190780>],\n",
       "       [<matplotlib.axes._subplots.AxesSubplot object at 0x1a181e84a8>,\n",
       "        <matplotlib.axes._subplots.AxesSubplot object at 0x1a1820fb38>,\n",
       "        <matplotlib.axes._subplots.AxesSubplot object at 0x1a1823e208>]],\n",
       "      dtype=object)"
      ]
     },
     "execution_count": 2,
     "metadata": {},
     "output_type": "execute_result"
    }
   ],
   "source": [
    "boston_features.describe()\n",
    "boston_pred = boston_features.iloc[:,0:10]\n",
    "boston_features.head()\n",
    "boston_pred.head()\n",
    "boston_pred[['CRIM', 'INDUS', 'RM', 'AGE', 'DIS', 'PTRATIO', 'B', 'LSTAT']].hist(figsize = [8,8])"
   ]
  },
  {
   "cell_type": "markdown",
   "metadata": {},
   "source": [
    "## Perform log transformations for the variables where it makes sense"
   ]
  },
  {
   "cell_type": "code",
   "execution_count": 4,
   "metadata": {},
   "outputs": [
    {
     "data": {
      "text/plain": [
       "array([[<matplotlib.axes._subplots.AxesSubplot object at 0x1a18c71278>,\n",
       "        <matplotlib.axes._subplots.AxesSubplot object at 0x1a18c9e240>,\n",
       "        <matplotlib.axes._subplots.AxesSubplot object at 0x1a18cc5898>],\n",
       "       [<matplotlib.axes._subplots.AxesSubplot object at 0x1a18ceff28>,\n",
       "        <matplotlib.axes._subplots.AxesSubplot object at 0x1a18d215f8>,\n",
       "        <matplotlib.axes._subplots.AxesSubplot object at 0x1a18d21630>],\n",
       "       [<matplotlib.axes._subplots.AxesSubplot object at 0x1a18d7c358>,\n",
       "        <matplotlib.axes._subplots.AxesSubplot object at 0x1a18da39e8>,\n",
       "        <matplotlib.axes._subplots.AxesSubplot object at 0x1a18dd50b8>]],\n",
       "      dtype=object)"
      ]
     },
     "execution_count": 4,
     "metadata": {},
     "output_type": "execute_result"
    },
    {
     "data": {
      "image/png": "[encoded data removed]",
      "text/plain": [
       "<Figure size 432x432 with 9 Axes>"
      ]
     },
     "metadata": {},
     "output_type": "display_data"
    }
   ],
   "source": [
    "import numpy as np\n",
    "data_log = pd.DataFrame([])\n",
    "data_log['agedis'] = np.log(boston_pred['AGE'])\n",
    "data_log['bdis'] = np.log(boston_pred['B'])\n",
    "data_log['crimdis'] = np.log(boston_pred['CRIM'])\n",
    "data_log['dis_dis'] = np.log(boston_pred['DIS'])\n",
    "data_log['indusdis'] = np.log(boston_pred['INDUS'])\n",
    "data_log['lstatdis'] = np.log(boston_pred['LSTAT'])\n",
    "data_log['agedis'] = np.log(boston_pred['AGE'])\n",
    "data_log['agedis'] = np.log(boston_pred['AGE'])\n",
    "data_log['ptdis'] = np.log(boston_pred['PTRATIO'])\n",
    "\n",
    "data_log.hist(figsize = [6,6])\n"
   ]
  },
  {
   "cell_type": "markdown",
   "metadata": {},
   "source": [
    "Analyze the results in terms of how they improved the normality performance. What is the problem with the \"ZN\" variable?  "
   ]
  },
  {
   "cell_type": "code",
   "execution_count": 10,
   "metadata": {},
   "outputs": [
    {
     "data": {
      "text/plain": [
       "array([[<matplotlib.axes._subplots.AxesSubplot object at 0x1a19272358>,\n",
       "        <matplotlib.axes._subplots.AxesSubplot object at 0x1a1928c780>],\n",
       "       [<matplotlib.axes._subplots.AxesSubplot object at 0x1a192b3e10>,\n",
       "        <matplotlib.axes._subplots.AxesSubplot object at 0x1a18354a20>]],\n",
       "      dtype=object)"
      ]
     },
     "execution_count": 10,
     "metadata": {},
     "output_type": "execute_result"
    },
    {
     "data": {
      "image/png": "[encoded data removed]",
      "text/plain": [
       "<Figure size 432x432 with 4 Axes>"
      ]
     },
     "metadata": {},
     "output_type": "display_data"
    }
   ],
   "source": [
    "age = boston_pred['AGE']\n",
    "crime = data_log['crimdis']\n",
    "indus = data_log['indusdis']\n",
    "ptratio = data_log['ptdis']\n",
    "\n",
    "scaled_age = (age-min(age))/(max(age) - min(age))\n",
    "scaled_crime = (crime-np.mean(crime))/np.sqrt(np.var(crime))\n",
    "scaled_indus = (indus-np.mean(indus))/(max(indus)-min(indus))\n",
    "scaled_ptratio = (ptratio - np.mean(ptratio))/np.sqrt(np.var(ptratio))\n",
    "\n",
    "boston_scaled = pd.DataFrame([])\n",
    "boston_scaled['age'] = scaled_age\n",
    "boston_scaled['crime'] = scaled_crime\n",
    "boston_scaled['indus'] = scaled_indus\n",
    "boston_scaled['ptratio'] = scaled_ptratio\n",
    "\n",
    "boston_scaled.hist(figsize = [6,6])"
   ]
  },
  {
   "cell_type": "markdown",
   "metadata": {},
   "source": [
    "\"ZN\" has a lot of zeros (more than 50%!). Remember that this variable denoted: \"proportion of residential land zoned for lots over 25,000 sq.ft.\". It might have made sense to categorize this variable to \"over 25,000 feet or not (binary variable 1/0). Now you have a zero-inflated variable which is cumbersome to work with."
   ]
  },
  {
   "cell_type": "markdown",
   "metadata": {},
   "source": [
    "## Try different types of transformations on the continuous variables"
   ]
  },
  {
   "cell_type": "markdown",
   "metadata": {},
   "source": [
    "Store your final features in a dataframe `features_final`"
   ]
  },
  {
   "cell_type": "code",
   "execution_count": null,
   "metadata": {},
   "outputs": [],
   "source": []
  },
  {
   "cell_type": "markdown",
   "metadata": {},
   "source": [
    "## Summary\n",
    "Great! You've now transformed your final data using feature scaling and normalization, and stored them in the `features_final` dataframe."
   ]
  }
 ],
 "metadata": {
  "kernelspec": {
   "display_name": "Python 3",
   "language": "python",
   "name": "python3"
  },
  "language_info": {
   "codemirror_mode": {
    "name": "ipython",
    "version": 3
   },
   "file_extension": ".py",
   "mimetype": "text/x-python",
   "name": "python",
   "nbconvert_exporter": "python",
   "pygments_lexer": "ipython3",
   "version": "3.6.5"
  }
 },
 "nbformat": 4,
 "nbformat_minor": 2
}
